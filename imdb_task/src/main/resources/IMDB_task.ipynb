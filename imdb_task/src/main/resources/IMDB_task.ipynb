{
 "cells": [
  {
   "cell_type": "code",
   "execution_count": 33,
   "metadata": {},
   "outputs": [],
   "source": [
    "from pandas import DataFrame\n",
    "from sklearn.linear_model import LogisticRegression\n",
    "from sklearn.feature_extraction.text import CountVectorizer\n",
    "from sklearn.metrics import precision_score, recall_score, f1_score, accuracy_score, roc_auc_score\n",
    "from sklearn.model_selection import cross_validate\n",
    "import pandas\n",
    "import matplotlib\n",
    "from sklearn.model_selection import train_test_split"
   ]
  },
  {
   "cell_type": "code",
   "execution_count": 34,
   "metadata": {},
   "outputs": [],
   "source": [
    "input_file = \"IMDB Dataset.csv\"\n",
    "data = pandas.read_csv(input_file, header = 0)\n",
    "original_headers = list(data.columns.values)"
   ]
  },
  {
   "cell_type": "code",
   "execution_count": 35,
   "metadata": {},
   "outputs": [
    {
     "name": "stdout",
     "output_type": "stream",
     "text": [
      "                                              review sentiment\n",
      "0  One of the other reviewers has mentioned that ...  positive\n",
      "1  A wonderful little production. <br /><br />The...  positive\n",
      "2  I thought this was a wonderful way to spend ti...  positive\n",
      "3  Basically there's a family where a little boy ...  negative\n",
      "4  Petter Mattei's \"Love in the Time of Money\" is...  positive\n",
      "                                                  review sentiment\n",
      "49995  I thought this movie did a down right good job...  positive\n",
      "49996  Bad plot, bad dialogue, bad acting, idiotic di...  negative\n",
      "49997  I am a Catholic taught in parochial elementary...  negative\n",
      "49998  I'm going to have to disagree with the previou...  negative\n",
      "49999  No one expects the Star Trek movies to be high...  negative\n"
     ]
    }
   ],
   "source": [
    "print(data.head())\n",
    "print(data.tail())"
   ]
  },
  {
   "cell_type": "code",
   "execution_count": 36,
   "metadata": {},
   "outputs": [
    {
     "name": "stdout",
     "output_type": "stream",
     "text": [
      "\n",
      "\n",
      "                                                   review sentiment\n",
      "count                                               50000     50000\n",
      "unique                                              49582         2\n",
      "top     Loved today's show!!! It was a variety and not...  positive\n",
      "freq                                                    5     25000\n"
     ]
    }
   ],
   "source": [
    "print(\"\\n\")\n",
    "print(data.describe())"
   ]
  },
  {
   "cell_type": "code",
   "execution_count": 37,
   "metadata": {},
   "outputs": [
    {
     "name": "stdout",
     "output_type": "stream",
     "text": [
      "\n",
      "Categorical columns: ['review', 'sentiment']\n",
      "Numerical columns: []\n"
     ]
    }
   ],
   "source": [
    "categorical_columns = [c for c in data.columns if data[c].dtype.name == 'object']\n",
    "numerical_columns   = [c for c in data.columns if data[c].dtype.name != 'object']\n",
    "print(f\"\\nCategorical columns: {categorical_columns}\")\n",
    "print(f\"Numerical columns: {numerical_columns}\")"
   ]
  },
  {
   "cell_type": "code",
   "execution_count": 38,
   "metadata": {},
   "outputs": [
    {
     "name": "stdout",
     "output_type": "stream",
     "text": [
      "\n",
      "\n",
      "Unique 'review' values: 49582\n",
      "Unique 'sentiment' values: 2\n"
     ]
    }
   ],
   "source": [
    "print(\"\\n\")\n",
    "for c in categorical_columns:\n",
    "    print (f\"Unique '{c}' values: {len(data[c].unique())}\")"
   ]
  },
  {
   "cell_type": "markdown",
   "metadata": {},
   "source": [
    "Check for empty values"
   ]
  },
  {
   "cell_type": "code",
   "execution_count": 39,
   "metadata": {},
   "outputs": [
    {
     "name": "stdout",
     "output_type": "stream",
     "text": [
      "review       50000\n",
      "sentiment    50000\n",
      "dtype: int64\n"
     ]
    }
   ],
   "source": [
    "print(data.count(axis=0))"
   ]
  },
  {
   "cell_type": "code",
   "execution_count": 40,
   "metadata": {},
   "outputs": [
    {
     "name": "stdout",
     "output_type": "stream",
     "text": [
      "\n",
      "Binary: ['sentiment']\n",
      "Non-binary: ['review']\n"
     ]
    }
   ],
   "source": [
    "data_describe = data.describe(include=[object])\n",
    "binary_columns    = [c for c in categorical_columns if data_describe[c]['unique'] == 2]\n",
    "nonbinary_columns = [c for c in categorical_columns if data_describe[c]['unique'] > 2]\n",
    "print(f\"\\nBinary: {str(binary_columns)}\")\n",
    "print(f\"Non-binary: {str(nonbinary_columns)}\")"
   ]
  },
  {
   "cell_type": "code",
   "execution_count": 41,
   "metadata": {},
   "outputs": [],
   "source": [
    "data.sentiment = data.sentiment.apply(lambda x: 0 if x == \"negative\" else 1)"
   ]
  },
  {
   "cell_type": "code",
   "execution_count": 42,
   "metadata": {},
   "outputs": [
    {
     "name": "stdout",
     "output_type": "stream",
     "text": [
      "\n",
      "\n",
      "                                              review  sentiment\n",
      "0  One of the other reviewers has mentioned that ...          1\n",
      "1  A wonderful little production. <br /><br />The...          1\n",
      "2  I thought this was a wonderful way to spend ti...          1\n",
      "3  Basically there's a family where a little boy ...          0\n",
      "4  Petter Mattei's \"Love in the Time of Money\" is...          1\n"
     ]
    }
   ],
   "source": [
    "print(\"\\n\")\n",
    "print(data.head())"
   ]
  },
  {
   "cell_type": "code",
   "execution_count": 43,
   "metadata": {},
   "outputs": [],
   "source": [
    "vectorizer = CountVectorizer()\n",
    "# vectorizer = CountVectorizer(stop_words=\"english\"б, ngram_range=(1,2), min_df=0.1, max_features = 100000)"
   ]
  },
  {
   "cell_type": "code",
   "execution_count": 44,
   "metadata": {},
   "outputs": [],
   "source": [
    "X = data[\"review\"]\n",
    "y = data[\"sentiment\"]\n",
    "X_cv, X_test, y_cv, y_test = train_test_split(X, y, test_size = 0.2, random_state = 11, stratify=y)\n",
    "X_train, X_validate, y_train, y_validate = train_test_split(X_cv, y_cv, test_size = 0.25, random_state = 11, stratify=y_cv)"
   ]
  },
  {
   "cell_type": "code",
   "execution_count": 45,
   "metadata": {},
   "outputs": [],
   "source": [
    "X_train = vectorizer.fit_transform(X_train)\n",
    "X_validate = vectorizer.transform(X_validate)\n",
    "X_test = vectorizer.transform(X_test)"
   ]
  },
  {
   "cell_type": "code",
   "execution_count": 46,
   "metadata": {},
   "outputs": [
    {
     "data": {
      "text/plain": [
       "LogisticRegression(C=1.0, class_weight=None, dual=False, fit_intercept=True,\n",
       "                   intercept_scaling=1, l1_ratio=None, max_iter=10000,\n",
       "                   multi_class='auto', n_jobs=None, penalty='l2',\n",
       "                   random_state=0, solver='lbfgs', tol=0.0001, verbose=0,\n",
       "                   warm_start=False)"
      ]
     },
     "execution_count": 46,
     "metadata": {},
     "output_type": "execute_result"
    }
   ],
   "source": [
    "logreg = LogisticRegression(random_state=0, max_iter=10000)\n",
    "logreg.fit(X_train, y_train)"
   ]
  },
  {
   "cell_type": "code",
   "execution_count": 47,
   "metadata": {},
   "outputs": [
    {
     "name": "stdout",
     "output_type": "stream",
     "text": [
      "\n",
      "\n"
     ]
    }
   ],
   "source": [
    "scores_validation = cross_validate(logreg, X_validate, y_validate, cv = 5, scoring=(\"f1\", \"accuracy\", \"precision\", \"recall\", \"roc_auc\"))\n",
    "print(\"\\n\")"
   ]
  },
  {
   "cell_type": "code",
   "execution_count": 48,
   "metadata": {},
   "outputs": [
    {
     "name": "stdout",
     "output_type": "stream",
     "text": [
      "P: 0.86 (+/- 0.006)\n",
      "R: 0.87 (+/- 0.006)\n",
      "F1: 0.86 (+/- 0.005)\n",
      "A: 0.86 (+/- 0.005)\n",
      "ROC_AUC: 0.93 (+/- 0.004)\n"
     ]
    }
   ],
   "source": [
    "print(\"P: %0.2f (+/- %0.3f)\" % (scores_validation[\"test_precision\"].mean(), scores_validation[\"test_precision\"].std() / 2))\n",
    "print(\"R: %0.2f (+/- %0.3f)\" % (scores_validation[\"test_recall\"].mean(), scores_validation[\"test_recall\"].std() / 2))\n",
    "print(\"F1: %0.2f (+/- %0.3f)\" % (scores_validation[\"test_f1\"].mean(), scores_validation[\"test_f1\"].std() / 2))\n",
    "print(\"A: %0.2f (+/- %0.3f)\" % (scores_validation[\"test_accuracy\"].mean(), scores_validation[\"test_accuracy\"].std() / 2))\n",
    "print(\"ROC_AUC: %0.2f (+/- %0.3f)\" % (scores_validation[\"test_roc_auc\"].mean(), scores_validation[\"test_roc_auc\"].std() / 2))"
   ]
  },
  {
   "cell_type": "code",
   "execution_count": 49,
   "metadata": {},
   "outputs": [
    {
     "name": "stdout",
     "output_type": "stream",
     "text": [
      "\n",
      "\n"
     ]
    }
   ],
   "source": [
    "scores_test = cross_validate(logreg, X_test, y_test, cv = 5, scoring=(\"f1\", \"accuracy\", \"precision\", \"recall\", \"roc_auc\"))\n",
    "print(\"\\n\")"
   ]
  },
  {
   "cell_type": "code",
   "execution_count": 56,
   "metadata": {},
   "outputs": [
    {
     "name": "stdout",
     "output_type": "stream",
     "text": [
      "P : 0.889\n",
      "R : 0.891\n",
      "F1: 0.890\n",
      "A : 0.890\n",
      "ROC_AUC 0.890: \n"
     ]
    }
   ],
   "source": [
    "prediction = logreg.predict(X_test)\n",
    "print(\"P : %0.3f\" % precision_score(prediction, y_test))\n",
    "print(\"R : %0.3f\" % recall_score(prediction, y_test))\n",
    "print(\"F1: %0.3f\" % f1_score(prediction, y_test))\n",
    "print(\"A : %0.3f\" % accuracy_score(prediction, y_test))\n",
    "print(\"ROC_AUC %0.3f: \" % roc_auc_score(prediction, y_test))"
   ]
  },
  {
   "cell_type": "code",
   "execution_count": 74,
   "metadata": {},
   "outputs": [],
   "source": [
    "# analytics = {}\n",
    "# vect_validation[\"CountVectorizer_val_roc_auc\"]=scores_validation[\"test_roc_auc\"].mean()\n",
    "# vect_validation[\"CountVectorizer_val_f1\"]=scores_validation[\"test_f1\"].mean()\n",
    "# vect_test[\"CountVectorizer_test_f1\"]=f1_score(prediction, y_test)\n",
    "# vect_test[\"CountVectorizer_test_roc_auc\"]=roc_auc_score(prediction, y_test)\n",
    "# analytics['CountVectorizer_val'] = vect_validation\n",
    "# analytics['CountVectorizer_test'] = vect_test"
   ]
  },
  {
   "cell_type": "code",
   "execution_count": 76,
   "metadata": {},
   "outputs": [],
   "source": [
    "analytics = {}\n",
    "analytics['CountVectorizer_val'] = scores_validation[\"test_f1\"].mean()\n",
    "analytics['CountVectorizer_test'] = f1_score(prediction, y_test)"
   ]
  },
  {
   "cell_type": "code",
   "execution_count": 77,
   "metadata": {},
   "outputs": [
    {
     "data": {
      "text/plain": [
       "<matplotlib.axes._subplots.AxesSubplot at 0x156eba775c8>"
      ]
     },
     "execution_count": 77,
     "metadata": {},
     "output_type": "execute_result"
    },
    {
     "data": {
      "image/png": "[encoded data removed]",
      "text/plain": [
       "<Figure size 432x288 with 1 Axes>"
      ]
     },
     "metadata": {
      "needs_background": "light"
     },
     "output_type": "display_data"
    }
   ],
   "source": [
    "DataFrame.from_dict(data = analytics, orient='index').plot(kind='bar', legend=False)"
   ]
  },
  {
   "cell_type": "code",
   "execution_count": null,
   "metadata": {},
   "outputs": [],
   "source": []
  }
 ],
 "metadata": {
  "kernelspec": {
   "display_name": "Python 3",
   "language": "python",
   "name": "python3"
  },
  "language_info": {
   "codemirror_mode": {
    "name": "ipython",
    "version": 3
   },
   "file_extension": ".py",
   "mimetype": "text/x-python",
   "name": "python",
   "nbconvert_exporter": "python",
   "pygments_lexer": "ipython3",
   "version": "3.7.4"
  }
 },
 "nbformat": 4,
 "nbformat_minor": 4
}
